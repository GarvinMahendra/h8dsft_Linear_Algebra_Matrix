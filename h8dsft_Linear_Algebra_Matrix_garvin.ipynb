{
  "nbformat": 4,
  "nbformat_minor": 0,
  "metadata": {
    "colab": {
      "provenance": []
    },
    "kernelspec": {
      "name": "python3",
      "display_name": "Python 3"
    },
    "language_info": {
      "name": "python"
    }
  },
  "cells": [
    {
      "cell_type": "markdown",
      "source": [
        "#Non Graded Challenge 4 - Linear Algebra - Matrix\n",
        "##Identity\n",
        "Nama Garvin, student hacktiv8 Batch RMT-20"
      ],
      "metadata": {
        "id": "5homJDc3oXVO"
      }
    },
    {
      "cell_type": "markdown",
      "source": [
        "##Soal\n",
        "Buatlah Tensor dibawah ini dengan Python:\n",
        "\n",
        " \n",
        "Lakukan perkalian terhadap matrix berikut:\n",
        "\n",
        " \n",
        " \n",
        "Lakukan Transpose, hitung determinan, dan inverse terhadap matrix dibawah ini:\n",
        "\n",
        " \n"
      ],
      "metadata": {
        "id": "fyaZZYhdollq"
      }
    },
    {
      "cell_type": "markdown",
      "source": [
        "##Jawab"
      ],
      "metadata": {
        "id": "CD5AUwr5owU_"
      }
    },
    {
      "cell_type": "markdown",
      "source": [
        "###Soal 1\n",
        "Buatlah Tensor"
      ],
      "metadata": {
        "id": "izLdyXUKo57n"
      }
    },
    {
      "cell_type": "code",
      "source": [
        "import numpy as np"
      ],
      "metadata": {
        "id": "eCOUdUt5okga"
      },
      "execution_count": 1,
      "outputs": []
    },
    {
      "cell_type": "code",
      "source": [
        "soal_1 = np.array([\n",
        "    [[23,50],[7,12]],\n",
        "    [[75,21],[57,12]],\n",
        "    [[57,67],[99,43]],\n",
        "    [[87,26],[18,84]],\n",
        "])\n",
        "\n",
        "soal_1"
      ],
      "metadata": {
        "colab": {
          "base_uri": "https://localhost:8080/"
        },
        "id": "6tQL0Gjoo_iw",
        "outputId": "92a5dcfa-2f1b-4842-8e08-bee46d2348a9"
      },
      "execution_count": 2,
      "outputs": [
        {
          "output_type": "execute_result",
          "data": {
            "text/plain": [
              "array([[[23, 50],\n",
              "        [ 7, 12]],\n",
              "\n",
              "       [[75, 21],\n",
              "        [57, 12]],\n",
              "\n",
              "       [[57, 67],\n",
              "        [99, 43]],\n",
              "\n",
              "       [[87, 26],\n",
              "        [18, 84]]])"
            ]
          },
          "metadata": {},
          "execution_count": 2
        }
      ]
    },
    {
      "cell_type": "markdown",
      "source": [
        "###Soal 2\n",
        "Lakukan perkalian"
      ],
      "metadata": {
        "id": "wjAdobx-pwjm"
      }
    },
    {
      "cell_type": "code",
      "source": [
        "a = np.array([\n",
        "    [23,50,19],\n",
        "    [7,12,109],\n",
        "    [57,67,98]\n",
        "])\n",
        "b = np.array([17,22,19])\n",
        "\n",
        "print('Vektor A = \\n',a)\n",
        "print('')\n",
        "print('Vektor B = \\n',b)"
      ],
      "metadata": {
        "colab": {
          "base_uri": "https://localhost:8080/"
        },
        "id": "IoUk-8SZpykn",
        "outputId": "5d5a38b2-f22a-46e4-f343-3d7601496eb7"
      },
      "execution_count": 20,
      "outputs": [
        {
          "output_type": "stream",
          "name": "stdout",
          "text": [
            "Vektor A = \n",
            " [[ 23  50  19]\n",
            " [  7  12 109]\n",
            " [ 57  67  98]]\n",
            "\n",
            "Vektor B = \n",
            " [17 22 19]\n"
          ]
        }
      ]
    },
    {
      "cell_type": "code",
      "source": [
        "c = a @ b\n",
        "print('Perkalian a dan b = \\n', c)"
      ],
      "metadata": {
        "colab": {
          "base_uri": "https://localhost:8080/"
        },
        "id": "MM8FCYRXqaJN",
        "outputId": "bbc63a33-2ad8-48b1-a40d-ccdf64e33c6a"
      },
      "execution_count": 22,
      "outputs": [
        {
          "output_type": "stream",
          "name": "stdout",
          "text": [
            "Perkalian a dan b = \n",
            " [1852 2454 4305]\n"
          ]
        }
      ]
    },
    {
      "cell_type": "markdown",
      "source": [
        "###Soal 3\n",
        "Transpose, hitung determinan, dan inverse"
      ],
      "metadata": {
        "id": "S12AffUmr5HM"
      }
    },
    {
      "cell_type": "code",
      "source": [
        "d = np.array([\n",
        "    [23,50,29],\n",
        "    [7,12,109],\n",
        "    [57,67,98]\n",
        "])\n",
        "d"
      ],
      "metadata": {
        "colab": {
          "base_uri": "https://localhost:8080/"
        },
        "id": "5v3riQg0qq5S",
        "outputId": "054396b1-b174-4743-b730-c121b6e82863"
      },
      "execution_count": 23,
      "outputs": [
        {
          "output_type": "execute_result",
          "data": {
            "text/plain": [
              "array([[ 23,  50,  29],\n",
              "       [  7,  12, 109],\n",
              "       [ 57,  67,  98]])"
            ]
          },
          "metadata": {},
          "execution_count": 23
        }
      ]
    },
    {
      "cell_type": "code",
      "source": [
        "# Transpose\n",
        "e = d.T\n",
        "print('Transpose = \\n ', e)"
      ],
      "metadata": {
        "colab": {
          "base_uri": "https://localhost:8080/"
        },
        "id": "FSNQ_PLbsRMd",
        "outputId": "2aa60058-1719-4858-d6f9-dc866da50e83"
      },
      "execution_count": 28,
      "outputs": [
        {
          "output_type": "stream",
          "name": "stdout",
          "text": [
            "Transpose = \n",
            "  [[ 23   7  57]\n",
            " [ 50  12  67]\n",
            " [ 29 109  98]]\n"
          ]
        }
      ]
    },
    {
      "cell_type": "code",
      "source": [
        "# Determinan\n",
        "f = np.linalg.det(d)\n",
        "print('Determinan = ', f)"
      ],
      "metadata": {
        "colab": {
          "base_uri": "https://localhost:8080/"
        },
        "id": "jMNGPTeQsmTt",
        "outputId": "b5ee7d18-b8c2-41b9-dae3-df1e11d9f8f6"
      },
      "execution_count": 29,
      "outputs": [
        {
          "output_type": "stream",
          "name": "stdout",
          "text": [
            "Determinan =  129193.99999999999\n"
          ]
        }
      ]
    },
    {
      "cell_type": "code",
      "source": [
        "# Inverse\n",
        "g = np.linalg.inv(d)\n",
        "print('Inverse = \\n', g)"
      ],
      "metadata": {
        "colab": {
          "base_uri": "https://localhost:8080/"
        },
        "id": "MUNXHITos9c3",
        "outputId": "4c6bfe54-677c-4b9a-c955-cfb213746147"
      },
      "execution_count": 31,
      "outputs": [
        {
          "output_type": "stream",
          "name": "stdout",
          "text": [
            "Inverse = \n",
            " [[-0.0474248  -0.02288806  0.039491  ]\n",
            " [ 0.04278062  0.00465192 -0.01783365]\n",
            " [-0.00166416  0.01013205 -0.00057278]]\n"
          ]
        }
      ]
    }
  ]
}